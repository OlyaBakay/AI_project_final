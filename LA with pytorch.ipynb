{
 "cells": [
  {
   "cell_type": "code",
   "execution_count": 1,
   "metadata": {
    "collapsed": true
   },
   "outputs": [],
   "source": [
    "import torch\n",
    "import torchvision.datasets as dsets\n",
    "from torchvision import transforms\n",
    "import torch.nn.functional as F\n",
    "import torch.nn as nn\n",
    "from torch.autograd import Variable\n",
    "import torch.utils.data as data\n",
    "\n",
    "import os\n",
    "from PIL import Image\n",
    "from torchvision import transforms\n",
    "\n",
    "from sklearn.metrics import f1_score\n",
    "import numpy as np\n",
    "import pandas as pd"
   ]
  },
  {
   "cell_type": "code",
   "execution_count": 2,
   "metadata": {
    "collapsed": true
   },
   "outputs": [],
   "source": [
    "import torch.utils.data as data\n",
    "class ImageDataset(data.Dataset):\n",
    "    def __init__(self, eq_path, an_path, json_path, lower_bound=0, upper_bound=1000, transform=None):\n",
    "        self.eq_path = eq_path\n",
    "        self.an_path = an_path\n",
    "        self.json_path = json_path\n",
    "        self.transform = transform\n",
    "        self.eq_images = []\n",
    "        self.an_images = []\n",
    "        self.data_labels = []\n",
    "\n",
    "\n",
    "        eq_filenames = os.listdir(eq_path)\n",
    "        an_filenames = os.listdir(an_path)\n",
    "\n",
    "        upper_bound = min(len(eq_filenames), len(an_filenames), upper_bound)\n",
    "\n",
    "        for eq_filename in eq_filenames[lower_bound:upper_bound]:\n",
    "            self.eq_images.append(eq_path + \"/\" + eq_filename)\n",
    "            \n",
    "        for an_filename in an_filenames[lower_bound:upper_bound]:\n",
    "            self.an_images.append(an_path + \"/\" + an_filename)\n",
    "        \n",
    "        with open(csv_path) as f:\n",
    "            df = pd.read_csv(f)\n",
    "            self.data_labels = df[\"IsCorrectAnswer\"]            \n",
    "\n",
    "    def __len__(self):\n",
    "        return len(self.eq_images)\n",
    "\n",
    "    def __getitem__(self, index):\n",
    "        eq_image = Image.open(self.eq_images[index])\n",
    "        an_image = Image.open(self.an_images[index])\n",
    "    \n",
    "        if self.transform is None:\n",
    "            self.transform = transforms.Compose([transforms.ToTensor()])\n",
    "\n",
    "        eq_image = self.transform(eq_image).squeeze()\n",
    "        an_image = self.transform(an_image).squeeze()\n",
    "        image = torch.stack([eq_image, an_image])\n",
    "        label = self.data_labels[index]\n",
    "        return image, label"
   ]
  },
  {
   "cell_type": "code",
   "execution_count": 3,
   "metadata": {
    "collapsed": false
   },
   "outputs": [],
   "source": [
    "data = \"/home/bakay/PycharmProjects/AI_project_final/pics/data\"\n",
    "labels = \"/home/bakay/PycharmProjects/AI_project_final/pics/labels\"\n",
    "csv_path = \"/home/bakay/PycharmProjects/AI_project_final/pics/info.csv\""
   ]
  },
  {
   "cell_type": "code",
   "execution_count": 4,
   "metadata": {
    "collapsed": true
   },
   "outputs": [],
   "source": [
    "class OlNet(nn.Module):\n",
    "    def __init__(self):\n",
    "        super().__init__()\n",
    "        self.conv_1 = nn.Conv2d(2, 32, 3, padding=2)\n",
    "        self.conv_1_pool = nn.MaxPool2d(2)\n",
    "        self.conv_2 = nn.Conv2d(32, 64, 3, padding=2)\n",
    "        self.conv_2_pool = nn.MaxPool2d(2)\n",
    "        self.conv_2_drop = nn.Dropout2d(0.25)\n",
    "        self.conv_3 = nn.Conv2d(64, 128, 3, padding=2)\n",
    "        self.conv_3_pool = nn.MaxPool2d(2)\n",
    "        self.conv_4 = nn.Conv2d(128, 256, 3, padding=2)\n",
    "        self.conv_4_pool = nn.MaxPool2d(2)\n",
    "        self.conv_4_drop = nn.Dropout2d(0.25)\n",
    "        self.fc_1 = nn.Linear(9216, 84)\n",
    "        self.fc_2 = nn.Linear(84, 2)\n",
    "\n",
    "    def forward(self, x):\n",
    "        x = self.conv_1_pool(F.relu(self.conv_1(x)))\n",
    "        x = self.conv_2_drop(self.conv_2_pool(F.relu(self.conv_2(x))))\n",
    "        x = self.conv_3_pool(F.relu(self.conv_3(x)))\n",
    "        x = self.conv_4_drop(self.conv_4_pool(F.relu(self.conv_4(x))))\n",
    "        x = x.view(x.size(0), -1)\n",
    "        x = F.relu(self.fc_1(x))\n",
    "        x = F.softmax(self.fc_2(x))\n",
    "        return x"
   ]
  },
  {
   "cell_type": "code",
   "execution_count": 5,
   "metadata": {
    "collapsed": true
   },
   "outputs": [],
   "source": [
    "lr = 0.0002\n",
    "criterion = nn.CrossEntropyLoss()\n",
    "model = OlNet()\n",
    "optimizer = torch.optim.Adam(model.parameters(), lr=lr)"
   ]
  },
  {
   "cell_type": "code",
   "execution_count": 6,
   "metadata": {
    "collapsed": true
   },
   "outputs": [],
   "source": [
    "batch_size = 100\n",
    "num_of_epochs = 100"
   ]
  },
  {
   "cell_type": "code",
   "execution_count": 7,
   "metadata": {
    "collapsed": false
   },
   "outputs": [
    {
     "name": "stdout",
     "output_type": "stream",
     "text": [
      "4000\n"
     ]
    }
   ],
   "source": [
    "train_dataset = ImageDataset(data, labels, csv_path, lower_bound=0, upper_bound=6000)\n",
    "test_dataset = ImageDataset(data, labels, csv_path, lower_bound=6000, upper_bound=10000)\n",
    "print(len(test_dataset))\n",
    "train_loader = torch.utils.data.DataLoader(train_dataset, batch_size=batch_size, shuffle=True)\n",
    "test_loader = torch.utils.data.DataLoader(test_dataset, batch_size=batch_size, shuffle=True)\n",
    "\n",
    "# image, label = train_dataset[0]"
   ]
  },
  {
   "cell_type": "code",
   "execution_count": 8,
   "metadata": {
    "collapsed": false
   },
   "outputs": [
    {
     "name": "stderr",
     "output_type": "stream",
     "text": [
      "/home/bakay/anaconda3/lib/python3.6/site-packages/ipykernel/__main__.py:24: UserWarning: Implicit dimension choice for softmax has been deprecated. Change the call to include dim=X as an argument.\n"
     ]
    },
    {
     "name": "stdout",
     "output_type": "stream",
     "text": [
      "torch.Size([100]) torch.Size([100, 2])\n",
      "Epoch: [1/100], Stage: [1/60], Loss: 0.6927030086517334\n",
      "torch.Size([100]) torch.Size([100, 2])\n",
      "Epoch: [1/100], Stage: [2/60], Loss: 0.6933751702308655\n",
      "torch.Size([100]) torch.Size([100, 2])\n",
      "Epoch: [1/100], Stage: [3/60], Loss: 0.6879079937934875\n",
      "torch.Size([100]) torch.Size([100, 2])\n",
      "Epoch: [1/100], Stage: [4/60], Loss: 0.6988255381584167\n",
      "torch.Size([100]) torch.Size([100, 2])\n",
      "Epoch: [1/100], Stage: [5/60], Loss: 0.6885390281677246\n",
      "torch.Size([100]) torch.Size([100, 2])\n",
      "Epoch: [1/100], Stage: [6/60], Loss: 0.6948729157447815\n",
      "torch.Size([100]) torch.Size([100, 2])\n",
      "Epoch: [1/100], Stage: [7/60], Loss: 0.703656792640686\n",
      "torch.Size([100]) torch.Size([100, 2])\n",
      "Epoch: [1/100], Stage: [8/60], Loss: 0.7085170149803162\n",
      "torch.Size([100]) torch.Size([100, 2])\n",
      "Epoch: [1/100], Stage: [9/60], Loss: 0.6940041184425354\n",
      "torch.Size([100]) torch.Size([100, 2])\n",
      "Epoch: [1/100], Stage: [10/60], Loss: 0.6933650374412537\n",
      "torch.Size([100]) torch.Size([100, 2])\n",
      "Epoch: [1/100], Stage: [11/60], Loss: 0.6991991996765137\n",
      "torch.Size([100]) torch.Size([100, 2])\n",
      "Epoch: [1/100], Stage: [12/60], Loss: 0.696928858757019\n",
      "torch.Size([100]) torch.Size([100, 2])\n",
      "Epoch: [1/100], Stage: [13/60], Loss: 0.6957789063453674\n",
      "torch.Size([100]) torch.Size([100, 2])\n",
      "Epoch: [1/100], Stage: [14/60], Loss: 0.6911715865135193\n",
      "torch.Size([100]) torch.Size([100, 2])\n",
      "Epoch: [1/100], Stage: [15/60], Loss: 0.6902903914451599\n",
      "torch.Size([100]) torch.Size([100, 2])\n",
      "Epoch: [1/100], Stage: [16/60], Loss: 0.6917041540145874\n",
      "torch.Size([100]) torch.Size([100, 2])\n",
      "Epoch: [1/100], Stage: [17/60], Loss: 0.6932488083839417\n",
      "torch.Size([100]) torch.Size([100, 2])\n",
      "Epoch: [1/100], Stage: [18/60], Loss: 0.6929751634597778\n",
      "torch.Size([100]) torch.Size([100, 2])\n",
      "Epoch: [1/100], Stage: [19/60], Loss: 0.6922520399093628\n",
      "torch.Size([100]) torch.Size([100, 2])\n",
      "Epoch: [1/100], Stage: [20/60], Loss: 0.6926209926605225\n",
      "torch.Size([100]) torch.Size([100, 2])\n",
      "Epoch: [1/100], Stage: [21/60], Loss: 0.6930135488510132\n",
      "torch.Size([100]) torch.Size([100, 2])\n",
      "Epoch: [1/100], Stage: [22/60], Loss: 0.6935997605323792\n",
      "torch.Size([100]) torch.Size([100, 2])\n",
      "Epoch: [1/100], Stage: [23/60], Loss: 0.6957571506500244\n"
     ]
    },
    {
     "ename": "KeyboardInterrupt",
     "evalue": "",
     "output_type": "error",
     "traceback": [
      "\u001b[0;31m---------------------------------------------------------------------------\u001b[0m",
      "\u001b[0;31mKeyboardInterrupt\u001b[0m                         Traceback (most recent call last)",
      "\u001b[0;32m<ipython-input-8-665800f4dfbc>\u001b[0m in \u001b[0;36m<module>\u001b[0;34m()\u001b[0m\n\u001b[1;32m      1\u001b[0m \u001b[0;32mfor\u001b[0m \u001b[0mepoch\u001b[0m \u001b[0;32min\u001b[0m \u001b[0mrange\u001b[0m\u001b[0;34m(\u001b[0m\u001b[0mnum_of_epochs\u001b[0m\u001b[0;34m)\u001b[0m\u001b[0;34m:\u001b[0m\u001b[0;34m\u001b[0m\u001b[0m\n\u001b[1;32m      2\u001b[0m     \u001b[0;31m# Training\u001b[0m\u001b[0;34m\u001b[0m\u001b[0;34m\u001b[0m\u001b[0m\n\u001b[0;32m----> 3\u001b[0;31m     \u001b[0;32mfor\u001b[0m \u001b[0mi\u001b[0m\u001b[0;34m,\u001b[0m \u001b[0;34m(\u001b[0m\u001b[0mX\u001b[0m\u001b[0;34m,\u001b[0m \u001b[0my_true\u001b[0m\u001b[0;34m)\u001b[0m \u001b[0;32min\u001b[0m \u001b[0menumerate\u001b[0m\u001b[0;34m(\u001b[0m\u001b[0mtrain_loader\u001b[0m\u001b[0;34m)\u001b[0m\u001b[0;34m:\u001b[0m\u001b[0;34m\u001b[0m\u001b[0m\n\u001b[0m\u001b[1;32m      4\u001b[0m \u001b[0;34m\u001b[0m\u001b[0m\n\u001b[1;32m      5\u001b[0m         \u001b[0mminibatch\u001b[0m \u001b[0;34m=\u001b[0m \u001b[0mX\u001b[0m\u001b[0;34m.\u001b[0m\u001b[0msize\u001b[0m\u001b[0;34m(\u001b[0m\u001b[0;36m0\u001b[0m\u001b[0;34m)\u001b[0m\u001b[0;34m\u001b[0m\u001b[0m\n",
      "\u001b[0;32m/home/bakay/anaconda3/lib/python3.6/site-packages/torch/utils/data/dataloader.py\u001b[0m in \u001b[0;36m__next__\u001b[0;34m(self)\u001b[0m\n\u001b[1;32m    186\u001b[0m         \u001b[0;32mif\u001b[0m \u001b[0mself\u001b[0m\u001b[0;34m.\u001b[0m\u001b[0mnum_workers\u001b[0m \u001b[0;34m==\u001b[0m \u001b[0;36m0\u001b[0m\u001b[0;34m:\u001b[0m  \u001b[0;31m# same-process loading\u001b[0m\u001b[0;34m\u001b[0m\u001b[0m\n\u001b[1;32m    187\u001b[0m             \u001b[0mindices\u001b[0m \u001b[0;34m=\u001b[0m \u001b[0mnext\u001b[0m\u001b[0;34m(\u001b[0m\u001b[0mself\u001b[0m\u001b[0;34m.\u001b[0m\u001b[0msample_iter\u001b[0m\u001b[0;34m)\u001b[0m  \u001b[0;31m# may raise StopIteration\u001b[0m\u001b[0;34m\u001b[0m\u001b[0m\n\u001b[0;32m--> 188\u001b[0;31m             \u001b[0mbatch\u001b[0m \u001b[0;34m=\u001b[0m \u001b[0mself\u001b[0m\u001b[0;34m.\u001b[0m\u001b[0mcollate_fn\u001b[0m\u001b[0;34m(\u001b[0m\u001b[0;34m[\u001b[0m\u001b[0mself\u001b[0m\u001b[0;34m.\u001b[0m\u001b[0mdataset\u001b[0m\u001b[0;34m[\u001b[0m\u001b[0mi\u001b[0m\u001b[0;34m]\u001b[0m \u001b[0;32mfor\u001b[0m \u001b[0mi\u001b[0m \u001b[0;32min\u001b[0m \u001b[0mindices\u001b[0m\u001b[0;34m]\u001b[0m\u001b[0;34m)\u001b[0m\u001b[0;34m\u001b[0m\u001b[0m\n\u001b[0m\u001b[1;32m    189\u001b[0m             \u001b[0;32mif\u001b[0m \u001b[0mself\u001b[0m\u001b[0;34m.\u001b[0m\u001b[0mpin_memory\u001b[0m\u001b[0;34m:\u001b[0m\u001b[0;34m\u001b[0m\u001b[0m\n\u001b[1;32m    190\u001b[0m                 \u001b[0mbatch\u001b[0m \u001b[0;34m=\u001b[0m \u001b[0mpin_memory_batch\u001b[0m\u001b[0;34m(\u001b[0m\u001b[0mbatch\u001b[0m\u001b[0;34m)\u001b[0m\u001b[0;34m\u001b[0m\u001b[0m\n",
      "\u001b[0;32m/home/bakay/anaconda3/lib/python3.6/site-packages/torch/utils/data/dataloader.py\u001b[0m in \u001b[0;36m<listcomp>\u001b[0;34m(.0)\u001b[0m\n\u001b[1;32m    186\u001b[0m         \u001b[0;32mif\u001b[0m \u001b[0mself\u001b[0m\u001b[0;34m.\u001b[0m\u001b[0mnum_workers\u001b[0m \u001b[0;34m==\u001b[0m \u001b[0;36m0\u001b[0m\u001b[0;34m:\u001b[0m  \u001b[0;31m# same-process loading\u001b[0m\u001b[0;34m\u001b[0m\u001b[0m\n\u001b[1;32m    187\u001b[0m             \u001b[0mindices\u001b[0m \u001b[0;34m=\u001b[0m \u001b[0mnext\u001b[0m\u001b[0;34m(\u001b[0m\u001b[0mself\u001b[0m\u001b[0;34m.\u001b[0m\u001b[0msample_iter\u001b[0m\u001b[0;34m)\u001b[0m  \u001b[0;31m# may raise StopIteration\u001b[0m\u001b[0;34m\u001b[0m\u001b[0m\n\u001b[0;32m--> 188\u001b[0;31m             \u001b[0mbatch\u001b[0m \u001b[0;34m=\u001b[0m \u001b[0mself\u001b[0m\u001b[0;34m.\u001b[0m\u001b[0mcollate_fn\u001b[0m\u001b[0;34m(\u001b[0m\u001b[0;34m[\u001b[0m\u001b[0mself\u001b[0m\u001b[0;34m.\u001b[0m\u001b[0mdataset\u001b[0m\u001b[0;34m[\u001b[0m\u001b[0mi\u001b[0m\u001b[0;34m]\u001b[0m \u001b[0;32mfor\u001b[0m \u001b[0mi\u001b[0m \u001b[0;32min\u001b[0m \u001b[0mindices\u001b[0m\u001b[0;34m]\u001b[0m\u001b[0;34m)\u001b[0m\u001b[0;34m\u001b[0m\u001b[0m\n\u001b[0m\u001b[1;32m    189\u001b[0m             \u001b[0;32mif\u001b[0m \u001b[0mself\u001b[0m\u001b[0;34m.\u001b[0m\u001b[0mpin_memory\u001b[0m\u001b[0;34m:\u001b[0m\u001b[0;34m\u001b[0m\u001b[0m\n\u001b[1;32m    190\u001b[0m                 \u001b[0mbatch\u001b[0m \u001b[0;34m=\u001b[0m \u001b[0mpin_memory_batch\u001b[0m\u001b[0;34m(\u001b[0m\u001b[0mbatch\u001b[0m\u001b[0;34m)\u001b[0m\u001b[0;34m\u001b[0m\u001b[0m\n",
      "\u001b[0;32m<ipython-input-2-4082d7109d42>\u001b[0m in \u001b[0;36m__getitem__\u001b[0;34m(self, index)\u001b[0m\n\u001b[1;32m     30\u001b[0m \u001b[0;34m\u001b[0m\u001b[0m\n\u001b[1;32m     31\u001b[0m     \u001b[0;32mdef\u001b[0m \u001b[0m__getitem__\u001b[0m\u001b[0;34m(\u001b[0m\u001b[0mself\u001b[0m\u001b[0;34m,\u001b[0m \u001b[0mindex\u001b[0m\u001b[0;34m)\u001b[0m\u001b[0;34m:\u001b[0m\u001b[0;34m\u001b[0m\u001b[0m\n\u001b[0;32m---> 32\u001b[0;31m         \u001b[0meq_image\u001b[0m \u001b[0;34m=\u001b[0m \u001b[0mImage\u001b[0m\u001b[0;34m.\u001b[0m\u001b[0mopen\u001b[0m\u001b[0;34m(\u001b[0m\u001b[0mself\u001b[0m\u001b[0;34m.\u001b[0m\u001b[0meq_images\u001b[0m\u001b[0;34m[\u001b[0m\u001b[0mindex\u001b[0m\u001b[0;34m]\u001b[0m\u001b[0;34m)\u001b[0m\u001b[0;34m\u001b[0m\u001b[0m\n\u001b[0m\u001b[1;32m     33\u001b[0m         \u001b[0man_image\u001b[0m \u001b[0;34m=\u001b[0m \u001b[0mImage\u001b[0m\u001b[0;34m.\u001b[0m\u001b[0mopen\u001b[0m\u001b[0;34m(\u001b[0m\u001b[0mself\u001b[0m\u001b[0;34m.\u001b[0m\u001b[0man_images\u001b[0m\u001b[0;34m[\u001b[0m\u001b[0mindex\u001b[0m\u001b[0;34m]\u001b[0m\u001b[0;34m)\u001b[0m\u001b[0;34m\u001b[0m\u001b[0m\n\u001b[1;32m     34\u001b[0m \u001b[0;34m\u001b[0m\u001b[0m\n",
      "\u001b[0;32m/home/bakay/anaconda3/lib/python3.6/site-packages/PIL/Image.py\u001b[0m in \u001b[0;36mopen\u001b[0;34m(fp, mode)\u001b[0m\n\u001b[1;32m   2537\u001b[0m         \u001b[0mexclusive_fp\u001b[0m \u001b[0;34m=\u001b[0m \u001b[0;32mTrue\u001b[0m\u001b[0;34m\u001b[0m\u001b[0m\n\u001b[1;32m   2538\u001b[0m \u001b[0;34m\u001b[0m\u001b[0m\n\u001b[0;32m-> 2539\u001b[0;31m     \u001b[0mprefix\u001b[0m \u001b[0;34m=\u001b[0m \u001b[0mfp\u001b[0m\u001b[0;34m.\u001b[0m\u001b[0mread\u001b[0m\u001b[0;34m(\u001b[0m\u001b[0;36m16\u001b[0m\u001b[0;34m)\u001b[0m\u001b[0;34m\u001b[0m\u001b[0m\n\u001b[0m\u001b[1;32m   2540\u001b[0m \u001b[0;34m\u001b[0m\u001b[0m\n\u001b[1;32m   2541\u001b[0m     \u001b[0mpreinit\u001b[0m\u001b[0;34m(\u001b[0m\u001b[0;34m)\u001b[0m\u001b[0;34m\u001b[0m\u001b[0m\n",
      "\u001b[0;31mKeyboardInterrupt\u001b[0m: "
     ]
    }
   ],
   "source": [
    "for epoch in range(num_of_epochs):\n",
    "    # Training\n",
    "    for i, (X, y_true) in enumerate(train_loader):\n",
    "\n",
    "        minibatch = X.size(0)\n",
    "        X = Variable(X)\n",
    "        y_true = Variable(y_true)\n",
    "        y_predict = model(X)\n",
    "        print(y_true.size(), y_predict.size())\n",
    "#         print(y_true.size())\n",
    "        model.zero_grad()\n",
    "        loss = criterion(y_predict, y_true)\n",
    "        loss.backward()\n",
    "        optimizer.step()\n",
    "        print(\"Epoch: [{}/{}], Stage: [{}/{}], Loss: {}\".format(epoch + 1, num_of_epochs, i + 1, len(train_loader), loss.data[0]))\n",
    "#         break\n",
    "    # Testing\n",
    "    correct = np.array([])\n",
    "    predicted = np.array([])\n",
    "    for (X, y_true) in test_loader:\n",
    "#         minibatch = X.size(0)\n",
    "#         X = X.view(minibatch,)\n",
    "        X = Variable(X)\n",
    "        y_out = model(X)\n",
    "        _, y_pred = torch.max(y_out, 1)\n",
    "        correct = np.concatenate((correct, y_true.numpy()))\n",
    "        predicted = np.concatenate((predicted, y_pred.data.numpy()))\n",
    "    print(correct.shape, predicted.shape)\n",
    "    print(\"Epoch: {}, Accuracy: {}%\".format(epoch + 1, f1_score(correct, predicted)))"
   ]
  }
 ],
 "metadata": {
  "kernelspec": {
   "display_name": "Python 3",
   "language": "python",
   "name": "python3"
  },
  "language_info": {
   "codemirror_mode": {
    "name": "ipython",
    "version": 3
   },
   "file_extension": ".py",
   "mimetype": "text/x-python",
   "name": "python",
   "nbconvert_exporter": "python",
   "pygments_lexer": "ipython3",
   "version": "3.6.3"
  }
 },
 "nbformat": 4,
 "nbformat_minor": 2
}
